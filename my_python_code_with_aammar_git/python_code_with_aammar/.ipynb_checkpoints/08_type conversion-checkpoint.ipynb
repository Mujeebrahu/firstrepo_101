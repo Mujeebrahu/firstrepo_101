{
 "cells": [
  {
   "cell_type": "code",
   "execution_count": 1,
   "metadata": {},
   "outputs": [
    {
     "name": "stdout",
     "output_type": "stream",
     "text": [
      "<class 'int'>\n",
      "<class 'float'>\n",
      "<class 'str'>\n"
     ]
    }
   ],
   "source": [
    "#type conversion\n",
    "x=10           #interger\n",
    "y=10.2         #float\n",
    "z=\"hello\"      #string\n",
    "print(type(x))\n",
    "print(type(y))\n",
    "print(type(z))\n"
   ]
  },
  {
   "cell_type": "code",
   "execution_count": 4,
   "metadata": {},
   "outputs": [
    {
     "name": "stdout",
     "output_type": "stream",
     "text": [
      "102.0 type of x is now: type <class 'float'>\n",
      "<class 'float'>\n",
      "<class 'str'>\n"
     ]
    }
   ],
   "source": [
    "#convet integer into float\n",
    "x=10           #interger\n",
    "y=10.2         #float\n",
    "z=\"hello\"      #string\n",
    "#implecit type conversion\n",
    "x= x*y         #interger x in convert into float\n",
    "\n",
    "print(x,\"type of x is now: type\", type(x))\n",
    "print(type(y))\n",
    "print(type(z))\n"
   ]
  },
  {
   "cell_type": "code",
   "execution_count": 9,
   "metadata": {},
   "outputs": [
    {
     "name": "stdout",
     "output_type": "stream",
     "text": [
      "What is you age? 23\n",
      "23 <class 'int'>\n"
     ]
    }
   ],
   "source": [
    "#explicit type conversion\n",
    "age=input(\"What is you age? \")\n",
    "#age = int(age)\n",
    "#print (type(age))\n",
    "print(age,type(int(age)))"
   ]
  },
  {
   "cell_type": "code",
   "execution_count": null,
   "metadata": {},
   "outputs": [],
   "source": []
  }
 ],
 "metadata": {
  "kernelspec": {
   "display_name": "Python 3",
   "language": "python",
   "name": "python3"
  },
  "language_info": {
   "codemirror_mode": {
    "name": "ipython",
    "version": 3
   },
   "file_extension": ".py",
   "mimetype": "text/x-python",
   "name": "python",
   "nbconvert_exporter": "python",
   "pygments_lexer": "ipython3",
   "version": "3.7.6"
  }
 },
 "nbformat": 4,
 "nbformat_minor": 4
}
