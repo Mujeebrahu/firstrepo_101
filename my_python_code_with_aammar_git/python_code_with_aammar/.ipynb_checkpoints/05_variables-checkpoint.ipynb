{
 "cells": [
  {
   "cell_type": "code",
   "execution_count": 7,
   "metadata": {},
   "outputs": [
    {
     "name": "stdout",
     "output_type": "stream",
     "text": [
      "5\n",
      "we are learning python with aammar\n",
      "15\n",
      "<class 'int'>\n",
      "<class 'str'>\n"
     ]
    }
   ],
   "source": [
    "#Variables: object comtaining specific values\n",
    "x = 5 #numiric or interger variable\n",
    "print (x)\n",
    "\n",
    "y= 'we are learning python with aammar' #String variable\n",
    "print(y) \n",
    "\n",
    "x= x+10 # x=5 +10 = 15\n",
    "print (x)\n",
    "\n",
    "#types of variable\n",
    "type (x)\n",
    "print(type(x))\n",
    "print(type(y)) \n",
    "\n"
   ]
  },
  {
   "cell_type": "code",
   "execution_count": 8,
   "metadata": {},
   "outputs": [],
   "source": [
    "#ptinr_type_class\n",
    "\n",
    "#Rules to assing a variable\n",
    "#1- the variable should contaion letters, numbers or underscores\n",
    "#2- Do not start with numbers\n",
    "#3- Spaces are not allowed\n",
    "#4-Do not use keywords used in functions (break, mean if, etc)\n",
    "#5-shor and descriptive\n",
    "#6-Case senstivet(lowecase, uppercase, \"baba aammar sugest\" always use letters lower case letters should be used)\n"
   ]
  },
  {
   "cell_type": "code",
   "execution_count": 13,
   "metadata": {},
   "outputs": [
    {
     "name": "stdout",
     "output_type": "stream",
     "text": [
      "mangoes\n",
      "<class 'str'>\n"
     ]
    }
   ],
   "source": [
    "fruit_basket= \"mangoes\"\n",
    "print(fruit_basket)\n",
    "print(type(fruit_basket))"
   ]
  },
  {
   "cell_type": "code",
   "execution_count": null,
   "metadata": {},
   "outputs": [],
   "source": []
  }
 ],
 "metadata": {
  "kernelspec": {
   "display_name": "Python 3",
   "language": "python",
   "name": "python3"
  },
  "language_info": {
   "codemirror_mode": {
    "name": "ipython",
    "version": 3
   },
   "file_extension": ".py",
   "mimetype": "text/x-python",
   "name": "python",
   "nbconvert_exporter": "python",
   "pygments_lexer": "ipython3",
   "version": "3.7.6"
  }
 },
 "nbformat": 4,
 "nbformat_minor": 4
}
