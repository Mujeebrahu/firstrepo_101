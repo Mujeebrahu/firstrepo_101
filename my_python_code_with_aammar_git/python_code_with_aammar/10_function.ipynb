{
 "cells": [
  {
   "cell_type": "code",
   "execution_count": 3,
   "metadata": {},
   "outputs": [
    {
     "name": "stdout",
     "output_type": "stream",
     "text": [
      "we are learning with aammar\n",
      "we are learning with aammar\n",
      "we are learning with aammar\n"
     ]
    }
   ],
   "source": [
    "\n",
    "#print(\"we are learning with aammar\")\n",
    "#print(\"we are learning with aammar\")\n",
    "#print(\"we are learning with aammar\")\n",
    "#print(\"we are learning with aammar\")\n",
    "\n",
    "#defining a functions\n",
    "\n",
    "def print_codanics():\n",
    "    print(\"we are learning with aammar\")\n",
    "    print(\"we are learning with aammar\")\n",
    "    print(\"we are learning with aammar\")\n",
    "\n",
    "print_codanics()"
   ]
  },
  {
   "cell_type": "code",
   "execution_count": 4,
   "metadata": {},
   "outputs": [
    {
     "name": "stdout",
     "output_type": "stream",
     "text": [
      "we are learning with aammar\n",
      "we are learning with aammar\n",
      "we are learning with aammar\n"
     ]
    }
   ],
   "source": [
    "#2nd methond of defining a function\n",
    "def print_codanics():\n",
    "    text=\"we are learning with aammar\"\n",
    "    print(text)\n",
    "    print(text)\n",
    "    print(text)\n",
    "print_codanics()"
   ]
  },
  {
   "cell_type": "code",
   "execution_count": 5,
   "metadata": {},
   "outputs": [
    {
     "name": "stdout",
     "output_type": "stream",
     "text": [
      "hi this mujeeb\n",
      "hi this mujeeb\n",
      "hi this mujeeb\n"
     ]
    }
   ],
   "source": [
    "#3r method\n",
    "def print_codanics(text):\n",
    "    print(text)\n",
    "    print(text)\n",
    "    print(text)\n",
    "print_codanics(\"hi this mujeeb\")"
   ]
  },
  {
   "cell_type": "code",
   "execution_count": 16,
   "metadata": {},
   "outputs": [
    {
     "name": "stdout",
     "output_type": "stream",
     "text": [
      "hammad is still a baby\n"
     ]
    }
   ],
   "source": [
    "#4th method if elif and else statments\n",
    "def school_calculator(age):\n",
    "    if age==5:\n",
    "        print(\"hammad can join the school\")\n",
    "    elif age>5:\n",
    "        print(\"hammad should go to highar school\")\n",
    "    else :\n",
    "        print(\"hammad is still a baby\")\n",
    "        \n",
    "school_calculator(2,)\n"
   ]
  },
  {
   "cell_type": "code",
   "execution_count": 20,
   "metadata": {},
   "outputs": [
    {
     "name": "stdout",
     "output_type": "stream",
     "text": [
      "26\n"
     ]
    }
   ],
   "source": [
    "#defining a funcion for future\n",
    "\n",
    "def future_age(age):\n",
    "    new_age=age+18\n",
    "    return new_age\n",
    "    print(new_age)\n",
    "    \n",
    "future_predicted_age= future_age(8)\n",
    "print(future_predicted_age)"
   ]
  },
  {
   "cell_type": "code",
   "execution_count": null,
   "metadata": {},
   "outputs": [],
   "source": []
  }
 ],
 "metadata": {
  "kernelspec": {
   "display_name": "Python 3",
   "language": "python",
   "name": "python3"
  },
  "language_info": {
   "codemirror_mode": {
    "name": "ipython",
    "version": 3
   },
   "file_extension": ".py",
   "mimetype": "text/x-python",
   "name": "python",
   "nbconvert_exporter": "python",
   "pygments_lexer": "ipython3",
   "version": "3.7.6"
  }
 },
 "nbformat": 4,
 "nbformat_minor": 4
}
