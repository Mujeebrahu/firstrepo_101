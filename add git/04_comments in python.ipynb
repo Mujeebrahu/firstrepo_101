{
 "cells": [
  {
   "cell_type": "code",
   "execution_count": 7,
   "metadata": {},
   "outputs": [
    {
     "name": "stdout",
     "output_type": "stream",
     "text": [
      "how are you?\n",
      "we are learning python with aammar\n",
      "7\n",
      "select conde and press \"Ctrl+/\" for commnet out \n"
     ]
    }
   ],
   "source": [
    "print (\"how are you?\") # print a string \n",
    "print(\"we are learning python with aammar\")\n",
    "print(2+5) # this is comment # print operators function with number but withoit qutes\n",
    "# select conde and press \"Ctrl+/\" for commnet out \n",
    "print ('select conde and press \"Ctrl+/\" for commnet out ')"
   ]
  },
  {
   "cell_type": "code",
   "execution_count": null,
   "metadata": {},
   "outputs": [],
   "source": []
  }
 ],
 "metadata": {
  "kernelspec": {
   "display_name": "Python 3",
   "language": "python",
   "name": "python3"
  },
  "language_info": {
   "codemirror_mode": {
    "name": "ipython",
    "version": 3
   },
   "file_extension": ".py",
   "mimetype": "text/x-python",
   "name": "python",
   "nbconvert_exporter": "python",
   "pygments_lexer": "ipython3",
   "version": "3.7.6"
  }
 },
 "nbformat": 4,
 "nbformat_minor": 4
}
