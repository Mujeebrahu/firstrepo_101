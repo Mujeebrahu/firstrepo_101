{
 "cells": [
  {
   "cell_type": "code",
   "execution_count": 1,
   "metadata": {},
   "outputs": [
    {
     "name": "stdout",
     "output_type": "stream",
     "text": [
      "True\n",
      "False\n",
      "False\n",
      "True\n",
      "True\n",
      "False\n"
     ]
    }
   ],
   "source": [
    "# conditional_ logics\n",
    "# logical operator are either yes and no or rue and false or 0 and 1\n",
    "# equal to                             ==\n",
    "# not equal to                         !=\n",
    "# less than                            <\n",
    "# greater than                         >\n",
    "# less than and equal to               <=\n",
    "# greater than and equal to            >=\n",
    "print (4==4)\n",
    "print (4!=4)\n",
    "print (4>5)\n",
    "print (4<5)\n",
    "print (4<=5)\n",
    "print (4>=5)"
   ]
  },
  {
   "cell_type": "code",
   "execution_count": 2,
   "metadata": {},
   "outputs": [
    {
     "name": "stdout",
     "output_type": "stream",
     "text": [
      "False\n"
     ]
    }
   ],
   "source": [
    "aazan_age=3\n",
    "school_require_age=4\n",
    "print(aazan_age==school_require_age)"
   ]
  },
  {
   "cell_type": "code",
   "execution_count": 1,
   "metadata": {},
   "outputs": [
    {
     "name": "stdout",
     "output_type": "stream",
     "text": [
      "Whats is your child age5\n",
      "True\n"
     ]
    }
   ],
   "source": [
    "#input function and logicals operator\n",
    "school_require_age=5\n",
    "age=input(\"Whats is your child age\")\n",
    "age=int(age)\n",
    "print(school_require_age==age)"
   ]
  },
  {
   "cell_type": "code",
   "execution_count": null,
   "metadata": {},
   "outputs": [],
   "source": []
  }
 ],
 "metadata": {
  "kernelspec": {
   "display_name": "Python 3",
   "language": "python",
   "name": "python3"
  },
  "language_info": {
   "codemirror_mode": {
    "name": "ipython",
    "version": 3
   },
   "file_extension": ".py",
   "mimetype": "text/x-python",
   "name": "python",
   "nbconvert_exporter": "python",
   "pygments_lexer": "ipython3",
   "version": "3.7.6"
  }
 },
 "nbformat": 4,
 "nbformat_minor": 4
}
