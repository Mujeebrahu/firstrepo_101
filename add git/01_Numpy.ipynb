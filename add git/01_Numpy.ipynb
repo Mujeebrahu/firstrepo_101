{
 "cells": [
  {
   "cell_type": "markdown",
   "metadata": {},
   "source": [
    "# Numpy with baba_aammar_in_chilla"
   ]
  },
  {
   "cell_type": "markdown",
   "metadata": {},
   "source": [
    "## what is Nummpy by Google_baba\n",
    "- NumPy is the fundamental package for scientific computing in Python. It is a Python library that provides a multidimensional array object, various derived objects (such as masked arrays and matrices), and an assortment of routines for fast operations on arrays, including mathematical, logical, shape manipulation, sorting, selecting, I/O, discrete Fourier transforms, basic linear algebra, basic statistical operations, random simulation and much more.\n"
   ]
  },
  {
   "cell_type": "markdown",
   "metadata": {},
   "source": [
    "### what is Numpy by baba_aammar_baba\n",
    "- py    =Python\n",
    "- Numpy =Numerical Python    => numpy is the core library of python (python men both sara kam is library ke sath kar sakte hen)\n",
    "- library kiya he? => logo ke likhe howe \"Code\" jo zarorat parne par hum apny program ke result malo karne ke liye use kare\n",
    "- Linear algebra library, Intel MKL, and OpenBLAS => ye library alreay mojod he \"Numpy\" men => in ke base ye library bane he\n",
    "- install => just type \"pip install numpy\" in terminal\n",
    "- Import numpy as np => import library\n",
    "- Numpy is similar to Lists => numpy  is much faster than list\n",
    "- Numpy men hum *same DAta type use karte hen *Store data very compactly *great for big numarical operations *consumes less memory\n"
   ]
  },
  {
   "cell_type": "markdown",
   "metadata": {},
   "source": [
    "## what is an array?  \n",
    "- An arrry is a central data structure of the Numpy library.\n",
    "- An array is a grid of valurs and it contains informatin about the raw data, how to locat an element. and how to inpterpret an element.\n",
    "- Rank= number of dimensions\n"
   ]
  },
  {
   "cell_type": "markdown",
   "metadata": {},
   "source": [
    "### What is Vector \n",
    "- A vector is an array with a single dimension (there's no diffrence between row and column vector) [5,5,5]\n",
    "- Bacho ke assemble wale line jo class six ke bache aek tarf mon kar ke khare howe hen."
   ]
  },
  {
   "cell_type": "markdown",
   "metadata": {},
   "source": [
    "### What is Matrix\n",
    "- A matrix refers to an arry with two dimensions.\n",
    "- mena ke class 6-10 tak ke class ke bacho ke line assemble men => example                                                               -                                                       [6,6,6,6,6\n",
    "-                                                                  6,6,6,6,6\n",
    "-                                                                  6,6,6,6,6]\n"
   ]
  },
  {
   "cell_type": "markdown",
   "metadata": {},
   "source": [
    "### 1-D array: \"Vector\" kase banana he "
   ]
  },
  {
   "cell_type": "code",
   "execution_count": 6,
   "metadata": {},
   "outputs": [
    {
     "data": {
      "text/plain": [
       "array([5, 5, 5, 5])"
      ]
     },
     "execution_count": 6,
     "metadata": {},
     "output_type": "execute_result"
    }
   ],
   "source": [
    "# 1-D array:\n",
    "import numpy as np\n",
    "a = np.array ([5,5,5,5])\n",
    "a"
   ]
  },
  {
   "cell_type": "code",
   "execution_count": 7,
   "metadata": {},
   "outputs": [
    {
     "data": {
      "text/plain": [
       "numpy.ndarray"
      ]
     },
     "execution_count": 7,
     "metadata": {},
     "output_type": "execute_result"
    }
   ],
   "source": [
    "type(a) # this is ndarray type"
   ]
  },
  {
   "cell_type": "markdown",
   "metadata": {},
   "source": [
    "### 2-D arary: => the Numpy ndarray class is used to represent both matrices and vector"
   ]
  },
  {
   "cell_type": "code",
   "execution_count": 9,
   "metadata": {},
   "outputs": [
    {
     "data": {
      "text/plain": [
       "array([list([555]), list([5, 5, 5]), list([5, 5, 5])], dtype=object)"
      ]
     },
     "execution_count": 9,
     "metadata": {},
     "output_type": "execute_result"
    }
   ],
   "source": [
    "# 2-D array:\n",
    "import numpy as np\n",
    "b=np.array([[555],[5,5,5],[5,5,5]])\n",
    "b"
   ]
  },
  {
   "cell_type": "markdown",
   "metadata": {},
   "source": [
    "### => fimensions are called axis"
   ]
  },
  {
   "cell_type": "code",
   "execution_count": null,
   "metadata": {},
   "outputs": [],
   "source": []
  }
 ],
 "metadata": {
  "kernelspec": {
   "display_name": "Python 3",
   "language": "python",
   "name": "python3"
  },
  "language_info": {
   "codemirror_mode": {
    "name": "ipython",
    "version": 3
   },
   "file_extension": ".py",
   "mimetype": "text/x-python",
   "name": "python",
   "nbconvert_exporter": "python",
   "pygments_lexer": "ipython3",
   "version": "3.7.6"
  }
 },
 "nbformat": 4,
 "nbformat_minor": 4
}
