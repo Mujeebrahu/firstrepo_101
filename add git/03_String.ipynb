{
 "cells": [
  {
   "cell_type": "code",
   "execution_count": 1,
   "metadata": {},
   "outputs": [
    {
     "name": "stdout",
     "output_type": "stream",
     "text": [
      "hellow world\n",
      "I'm learning python again with high motivaions from python_ka_chilla\n",
      "test for single quotes\n",
      "test for double quotes\n",
      "print for tripple quotes\n"
     ]
    }
   ],
   "source": [
    "# string\n",
    "print (\"hellow world\")\n",
    "print (\"I'm learning python again with high motivaions from python_ka_chilla\") \n",
    "# koi abhi text jo exil men use within '' \"\" yan '''''' men usko string valu kahte hen \n",
    "print('test for single quotes')\n",
    "print(\"test for double quotes\")\n",
    "print('''print for tripple quotes''') \n",
    "#in sab ka maqsab same hoga"
   ]
  },
  {
   "cell_type": "code",
   "execution_count": 3,
   "metadata": {},
   "outputs": [
    {
     "name": "stdout",
     "output_type": "stream",
     "text": [
      "what's up\n"
     ]
    }
   ],
   "source": [
    "print(\"what's up\") #('what's up')=> is tarha error aayega to is liye single inworted comma(') ko show karwane ke liye mane String men (\"\") double qutetion de hen"
   ]
  },
  {
   "cell_type": "code",
   "execution_count": 4,
   "metadata": {},
   "outputs": [],
   "source": [
    "#String_clear"
   ]
  },
  {
   "cell_type": "code",
   "execution_count": null,
   "metadata": {},
   "outputs": [],
   "source": []
  }
 ],
 "metadata": {
  "kernelspec": {
   "display_name": "Python 3",
   "language": "python",
   "name": "python3"
  },
  "language_info": {
   "codemirror_mode": {
    "name": "ipython",
    "version": 3
   },
   "file_extension": ".py",
   "mimetype": "text/x-python",
   "name": "python",
   "nbconvert_exporter": "python",
   "pygments_lexer": "ipython3",
   "version": "3.7.6"
  }
 },
 "nbformat": 4,
 "nbformat_minor": 4
}
