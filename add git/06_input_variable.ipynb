{
 "cells": [
  {
   "cell_type": "code",
   "execution_count": 1,
   "metadata": {},
   "outputs": [],
   "source": [
    "fruit_basket = \"mangoes\"\n",
    "print (fruit_basket)"
   ]
  },
  {
   "cell_type": "code",
   "execution_count": 2,
   "metadata": {},
   "outputs": [
    {
     "name": "stdout",
     "output_type": "stream",
     "text": [
      "What is your favourite furit? as\n",
      "as\n"
     ]
    }
   ],
   "source": [
    "#input_variable\n",
    "fruit_basket = input(\"What is your favourite furit? \")\n",
    "print(fruit_basket)"
   ]
  },
  {
   "cell_type": "code",
   "execution_count": 3,
   "metadata": {},
   "outputs": [
    {
     "name": "stdout",
     "output_type": "stream",
     "text": [
      "What is your name? asd\n",
      "hello!asd\n"
     ]
    }
   ],
   "source": [
    "# input_function of 2nd stage\n",
    "name= input(\"What is your name? \")\n",
    "greeting= 'hello!'\n",
    "print (greeting + name)"
   ]
  },
  {
   "cell_type": "code",
   "execution_count": 1,
   "metadata": {},
   "outputs": [
    {
     "name": "stdout",
     "output_type": "stream",
     "text": [
      "What is your name? s\n",
      "hello!s\n"
     ]
    }
   ],
   "source": [
    "# another way of stage 2 input function\n",
    "name= input(\"What is your name? \")\n",
    "print (\"hello!\"+ name)"
   ]
  },
  {
   "cell_type": "code",
   "execution_count": 2,
   "metadata": {},
   "outputs": [
    {
     "name": "stdout",
     "output_type": "stream",
     "text": [
      "what is your name? mujeeb\n",
      "how old are you? 23\n",
      "hello!mujeeb you are still young\n"
     ]
    }
   ],
   "source": [
    "# 3rd stage input function\n",
    "name= input(\"what is your name? \")\n",
    "age=input(\"how old are you? \")\n",
    "greetings=(\"hello!\")\n",
    "print(greetings+ name+ \" you are still young\")"
   ]
  },
  {
   "cell_type": "code",
   "execution_count": null,
   "metadata": {},
   "outputs": [],
   "source": []
  },
  {
   "cell_type": "code",
   "execution_count": null,
   "metadata": {},
   "outputs": [],
   "source": []
  },
  {
   "cell_type": "code",
   "execution_count": null,
   "metadata": {},
   "outputs": [],
   "source": []
  }
 ],
 "metadata": {
  "kernelspec": {
   "display_name": "Python 3",
   "language": "python",
   "name": "python3"
  },
  "language_info": {
   "codemirror_mode": {
    "name": "ipython",
    "version": 3
   },
   "file_extension": ".py",
   "mimetype": "text/x-python",
   "name": "python",
   "nbconvert_exporter": "python",
   "pygments_lexer": "ipython3",
   "version": "3.7.6"
  }
 },
 "nbformat": 4,
 "nbformat_minor": 4
}
