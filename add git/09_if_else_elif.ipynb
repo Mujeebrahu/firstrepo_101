{
 "cells": [
  {
   "cell_type": "code",
   "execution_count": 12,
   "metadata": {},
   "outputs": [
    {
     "name": "stdout",
     "output_type": "stream",
     "text": [
      "hammad should join higher class\n"
     ]
    }
   ],
   "source": [
    "#if, elsr &  elif \n",
    "required_age_at_school=5\n",
    "hammad_age =10\n",
    "#can hammad go to school?\n",
    "if hammad_age==required_age_at_school:\n",
    "    print(\"yes hammad can join the school\")\n",
    "elif hammad_age > required_age_at_school:\n",
    "    print(\"hammad should join higher class\")\n",
    "else:\n",
    "    print(\"sorry No\")\n",
    "    "
   ]
  },
  {
   "cell_type": "code",
   "execution_count": null,
   "metadata": {},
   "outputs": [],
   "source": []
  },
  {
   "cell_type": "code",
   "execution_count": null,
   "metadata": {},
   "outputs": [],
   "source": []
  }
 ],
 "metadata": {
  "kernelspec": {
   "display_name": "Python 3",
   "language": "python",
   "name": "python3"
  },
  "language_info": {
   "codemirror_mode": {
    "name": "ipython",
    "version": 3
   },
   "file_extension": ".py",
   "mimetype": "text/x-python",
   "name": "python",
   "nbconvert_exporter": "python",
   "pygments_lexer": "ipython3",
   "version": "3.7.6"
  }
 },
 "nbformat": 4,
 "nbformat_minor": 4
}
